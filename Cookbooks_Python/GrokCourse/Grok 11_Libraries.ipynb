{
 "cells": [
  {
   "cell_type": "markdown",
   "source": [
    "## Intro\n",
    "Python has a large array of built-in functions, but to avoid bloating the language, they are available on a user-needs basis, in the form of libraries. \n",
    "\n",
    "A library is a collection of functions that relate to a particular style of analysis. For example:\n",
    " - there is a library for basic mathematical and statistical functions, \n",
    " - another library for advanced iterators, and \n",
    " - a different library again for advanced data structures used for storage purposes.\n",
    "\n",
    "## Enabling libraries\n",
    "To gain access to the functions within a given library, you must first tell Python to enable it, using the import statement, followed by a space and the name of the library, e.g., in the case of the math library:\n",
    "\n",
    "Remember that functions have brackets after them, constants do not. The full set of object names provided by a library can be accessed as a list using the dir function applied to the library object. Here is an example:"
   ],
   "metadata": {
    "collapsed": false,
    "pycharm": {
     "name": "#%% md\n"
    }
   }
  },
  {
   "cell_type": "code",
   "execution_count": 4,
   "metadata": {
    "collapsed": true,
    "pycharm": {
     "is_executing": false
    }
   },
   "outputs": [
    {
     "name": "stdout",
     "text": [
      "12.0\n6.0\n3628800\n3.141592653589793\n2.718281828459045\n"
     ],
     "output_type": "stream"
    }
   ],
   "source": [
    "import math\n",
    "print(math.sqrt(144))\n",
    "print(math.log10(1000000))\n",
    "print(math.factorial(10))\n",
    "\n",
    "print(math.pi)\n",
    "print(math.e)"
   ]
  },
  {
   "cell_type": "markdown",
   "source": [
    "One downside to the standard import method is that, if the library has a long-winded name, it can be odious to have to type the full library name every time you want to use it. \n",
    "\n",
    "Python supports the importing of libraries under pseudonyms via the import LIBRARY as VARIABLE statement:\n"
   ],
   "metadata": {
    "collapsed": false,
    "pycharm": {
     "name": "#%% md\n"
    }
   }
  },
  {
   "cell_type": "code",
   "execution_count": null,
   "outputs": [],
   "source": [
    "import math as m\n",
    "print(m.pi)\n",
    "print(m.sqrt(2))\n",
    "\n",
    "# import specific objects\n",
    "from math import pi, sqrt\n",
    "print(pi)\n",
    "print(sqrt(2))\n",
    "print(e)  # this doesn't work as we didn't install the e object\n",
    "\n",
    "# Importing all objects\n",
    "from math import *\n",
    "print(pi)\n",
    "print(sqrt(2))\n",
    "print(e)\n",
    "\n"
   ],
   "metadata": {
    "collapsed": false,
    "pycharm": {
     "name": "#%%\n"
    }
   }
  },
  {
   "cell_type": "markdown",
   "source": [
    "More examples: \n"
   ],
   "metadata": {
    "collapsed": false,
    "pycharm": {
     "name": "#%% md\n"
    }
   }
  },
  {
   "cell_type": "code",
   "execution_count": null,
   "outputs": [],
   "source": [
    "\"\"\" W11, Question 1\"\"\"\n",
    "def triangle_legs(hyp, angle):\n",
    "    angle1=angle\n",
    "    angle2=90-angle1\n",
    "    Opp1=hyp*sin(radians(angle1));Opp1\n",
    "    Opp2=hyp*sin(radians(angle2));Opp2\n",
    "    list1=sorted([Opp1,Opp2]); list1\n",
    "    return tuple(list1)\n",
    "\n",
    "\"\"\"W11, Question 3 \"\"\"\n",
    "initialvalue=input('Maximum number to factorise:')\n",
    "initialvalue=int(initialvalue)\n",
    "for number in range(1,initialvalue+1):\n",
    "    list1=[]\n",
    "    for element in range(1,number+1):\n",
    "        if element==1 or element==number:\n",
    "            list1.append('*')\n",
    "        else:\n",
    "            list1.append('-')\n",
    "\n",
    "    for prevnumber in range(2,number):\n",
    "        if number%prevnumber==0:\n",
    "            list1[prevnumber-1]='*'\n",
    "    output=' '.join(list1)\n",
    "    output2= output+(' -'*(initialvalue-number))\n",
    "\n",
    "    print(output2)\n",
    "\n"
   ],
   "metadata": {
    "collapsed": false,
    "pycharm": {
     "name": "#%%\n"
    }
   }
  }
 ],
 "metadata": {
  "language_info": {
   "codemirror_mode": {
    "name": "ipython",
    "version": 2
   },
   "file_extension": ".py",
   "mimetype": "text/x-python",
   "name": "python",
   "nbconvert_exporter": "python",
   "pygments_lexer": "ipython2",
   "version": "2.7.6"
  },
  "kernelspec": {
   "name": "python3",
   "language": "python",
   "display_name": "Python 3"
  },
  "pycharm": {
   "stem_cell": {
    "cell_type": "raw",
    "source": [],
    "metadata": {
     "collapsed": false
    }
   }
  }
 },
 "nbformat": 4,
 "nbformat_minor": 0
}