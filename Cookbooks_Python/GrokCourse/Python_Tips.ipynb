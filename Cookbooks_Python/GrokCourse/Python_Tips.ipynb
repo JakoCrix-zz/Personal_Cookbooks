{
 "cells": [
  {
   "cell_type": "markdown",
   "source": [
    "## PEP8\n",
    "A summary of the official coding style guide we care about is as follows:\n",
    "\n",
    "Spacing:\n",
    "- Use 4 spaces for indentation. (Grok does this by default, if not, check your settings).\n",
    "- Don't use tab. (Again, Grok is your friend here, in that it will automatically translate any tab-based indentation into spaces.)\n",
    "- Line length must not exceed 79 characters.\n",
    "- There should be no spaces after between function/method names and arguments (also for slices and indexing)\n",
    "- Use blank lines between logically separate blocks of code (e.g. between functions and major sections associated with different comments).\n",
    "- Avoid multiple statements on the same line\n",
    "- Always start a new line after if, elif, else, while, for etc.\n",
    "\n",
    "Commenting:\n",
    "- Keep the indentation level of any comments the same as the line of code it is associated with.\n",
    "- Make sure comments do not contradict your code.\n",
    "- Do not state the obvious in comments.\n",
    "\n",
    "Naming etc:\n",
    "- Do not use l (lower-case \"L\"), I (upper-case \"I\") or O (upper-case \"O\") as variable names.\n",
    "- Function names should be lowercase, with words separated by underscores as necessary to improve readability.\n",
    "- Constants should be in all-caps.\n",
    "- Never compare with Booleans (== True/False).\n",
    "\n"
   ],
   "metadata": {
    "collapsed": false,
    "pycharm": {
     "name": "#%% md\n"
    }
   }
  },
  {
   "cell_type": "markdown",
   "source": [
    "## More on Naming\n",
    "Naming functions and variables is super important. Ideally your code shouldn't need comments. You should just be able to read it like a book, and function and variable names make the difference between a riveting sci-fi thriller and some dull telephone directory. In all seriousness though, it's important.\n",
    "\n",
    "When you are naming functions: your names should be descriptive of what the function does (you should be able to tell what the function does from the name). Use lower case. Separate words with underscores. For example, average(a_list), count_vowels(input_str), remove_vowels(input_str). NOT: f1(), thing1()\n",
    "\n",
    "Naming variables: your names are descriptive of what the variable stores, e.g. name_list, count. Constants should be in all-caps e.g.LIGHT_SPEED. Do NOT use names like: a1, a2, a3, a4, B1, B2, B3, B4. A slight exception to this principle is you can use short nondescript variable names like i, j for indexing in loops. This is because it is common practice, and it is relatively clear what the variables are for from the context.\n",
    "\n",
    "\n"
   ],
   "metadata": {
    "collapsed": false
   }
  },
  {
   "cell_type": "markdown",
   "source": [
    "## More on Commenting\n",
    "We use comments so that others can understand our code. We typically need to write comments in two places — for functions that others might use, and within algorithms themselves to clarify what is going on in a particularly tricky spot. Comments for functions are most important.\n",
    "\n",
    "To write a comment for a function, you should first think: \"if I were about to use this function, but I didn't write it, what would I need to know?\" Typically the answer is: what do I give the function as input, what does the function do to that input, and what do I get out? The means we typically write three things: (1) what the input arguments are (at the very least what their type is); (2) what the output of the function is; and (3) maybe a bit about how the function gets the output if it's not obvious. We typically write this type of comment as a docstring at the beginning of the function. Here is an example:\n"
   ],
   "metadata": {
    "collapsed": false
   }
  },
  {
   "cell_type": "code",
   "execution_count": null,
   "outputs": [],
   "source": [
    "def average_cost(items):\n",
    "    \"\"\"\n",
    "    average_cost takes a list of tuples of items and their costs and returns the average cost.\n",
    "    \"\"\"\n",
    "    total = 0\n",
    "    for item in items:\n",
    "        total += item[0]\n",
    "    return total/len(items)\n"
   ],
   "metadata": {
    "collapsed": false,
    "pycharm": {
     "name": "#%%\n"
    }
   }
  },
  {
   "cell_type": "markdown",
   "source": [
    "To write comments within the code, think about what the main code blocks are doing and write that ... in English. Do not simply reproduce the code.\n"
   ],
   "metadata": {
    "collapsed": false
   }
  },
  {
   "cell_type": "code",
   "execution_count": null,
   "outputs": [],
   "source": [
    "# Set count to the number of vowels in the word\n",
    "word= \"TheRandomWord\"\n",
    "count = 0\n",
    "for char in word:\n",
    "    if char in 'aeiou':\n",
    "        count += 1\n"
   ],
   "metadata": {
    "collapsed": false,
    "pycharm": {
     "name": "#%%\n"
    }
   }
  }
 ],
 "metadata": {
  "language_info": {
   "codemirror_mode": {
    "name": "ipython",
    "version": 2
   },
   "file_extension": ".py",
   "mimetype": "text/x-python",
   "name": "python",
   "nbconvert_exporter": "python",
   "pygments_lexer": "ipython2",
   "version": "2.7.6"
  },
  "kernelspec": {
   "name": "python3",
   "language": "python",
   "display_name": "Python 3"
  },
  "pycharm": {
   "stem_cell": {
    "cell_type": "raw",
    "source": [],
    "metadata": {
     "collapsed": false
    }
   }
  }
 },
 "nbformat": 4,
 "nbformat_minor": 0
}